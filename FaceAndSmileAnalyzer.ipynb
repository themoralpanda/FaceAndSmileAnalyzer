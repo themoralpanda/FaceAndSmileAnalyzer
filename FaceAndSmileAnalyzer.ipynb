{
 "cells": [
  {
   "cell_type": "code",
   "execution_count": null,
   "metadata": {
    "collapsed": true,
    "scrolled": false
   },
   "outputs": [],
   "source": [
    "%matplotlib inline\n",
    "\n",
    "import numpy as np\n",
    "import sys\n",
    "sys.path.append('/usr/local/lib/python2.7/site-packages')\n",
    "import cv2\n",
    "import matplotlib.pyplot as plt\n",
    "import time\n",
    "\n",
    "\n",
    "def convertToRGB(img):\n",
    "    return cv2.cvtColor(img, cv2.COLOR_BGR2RGB)\n",
    "\n",
    "\n",
    "\n",
    "haar_smile_cascade = cv2.CascadeClassifier('/Users/Vicky/OneDrive/Projects/FaceAndSmileAnalyzer/classifiers/mouth.xml')\n",
    "test = cv2.imread('/Users/Vicky/OneDrive/Projects/FaceAndSmileAnalyzer/test.jpg')\n",
    "\n",
    "#cv2.cvtColor(test, cv2.COLOR_BGR2GRAY)\n",
    "gray_img = test\n",
    "gray = cv2.cvtColor(gray_img,cv2.COLOR_BGR2GRAY)\n",
    "\n",
    "#Detect smile\n",
    "smile = haar_smile_cascade.detectMultiScale(gray_img,\n",
    "                                            scaleFactor= 1.7,\n",
    "                                            minNeighbors=22,\n",
    "                                            minSize=(25, 25));\n",
    "print (len(smile))\n",
    "\n",
    "\n",
    "plt.imshow(gray_img)\n",
    "for (x,y,w,h) in smile:\n",
    "    img2 = gray_img[y:y+h, x:x+w];\n",
    "    cv2.rectangle(gray_img, (x,y), (x+w,y+h), (0,255,0), 2)\n",
    "\n",
    "\n",
    "img2 = cv2.cvtColor(img2,cv2.COLOR_BGR2GRAY)\n",
    "#plt.imshow(img2)\n",
    "\n",
    "corners = cv2.goodFeaturesToTrack(img2,25,0.01,10)\n",
    "corners = np.int0(corners)\n",
    "\n",
    "for i in corners:\n",
    "    x,y = i.ravel()\n",
    "    cv2.circle(img2,(x,y),3,255,-1)\n",
    "    \n",
    "\n",
    "plt.imshow(img2),plt.show()\n",
    "\n",
    "\n",
    "\n"
   ]
  },
  {
   "cell_type": "code",
   "execution_count": 22,
   "metadata": {},
   "outputs": [],
   "source": [
    "# Face Matcher Using PCA\n",
    "\n",
    "import os\n",
    "import numpy as np\n",
    "import sys\n",
    "sys.path.append('/usr/local/lib/python2.7/site-packages')\n",
    "import cv2\n",
    "import matplotlib.pyplot as plt\n",
    "import glob\n",
    "\n",
    "#Step 1: Read the training set \n",
    "data_path = r'/Users/Vicky/OneDrive/Projects/FaceAndSmileAnalyzer/data/'\n",
    "main_path = r'/Users/Vicky/OneDrive/Projects/FaceAndSmileAnalyzer/GrayScaleFaces/'\n",
    "#faces = os.listdir(data_path) #Retrievs the list of images from the folder\n",
    "\n",
    "image_space = []\n",
    "\n",
    "\n",
    "faces = glob.glob(\"/Users/Vicky/OneDrive/Projects/FaceAndSmileAnalyzer/data/*.jpg\")\n",
    "\n",
    "\n",
    "for face in faces:\n",
    "    img = cv2.imread(face)\n",
    "    \n",
    "    img = cv2.cvtColor(img,cv2.COLOR_BGR2GRAY)\n",
    "    img = cv2.resize(img, (200,200))\n",
    "    \n",
    "    cv2.imwrite(face, img)\n",
    "    \n",
    "    #convert img into np array\n",
    "    arr = np.array(img)\n",
    "    [w,h] = arr.shape[0], arr.shape[1]\n",
    "    arr = arr.reshape(w*h)\n",
    "    image_space.append(arr)\n",
    "\n",
    "image_space = np.array(image_space)\n",
    "\n",
    "mean_vector = np.mean(image_space, axis = 0)\n",
    "\n",
    "\n",
    "\n",
    "\n",
    "\n",
    "\n",
    "\n",
    "\n",
    "\n"
   ]
  },
  {
   "cell_type": "code",
   "execution_count": 23,
   "metadata": {
    "scrolled": true
   },
   "outputs": [
    {
     "data": {
      "text/plain": [
       "True"
      ]
     },
     "execution_count": 23,
     "metadata": {},
     "output_type": "execute_result"
    }
   ],
   "source": [
    "cv2.imwrite(\"mean_img.jpg\",mean_vector.reshape(200,200))\n"
   ]
  },
  {
   "cell_type": "code",
   "execution_count": 31,
   "metadata": {
    "collapsed": true
   },
   "outputs": [],
   "source": [
    "A = np.array(image_space)\n",
    "\n",
    "for i in range(0,101):\n",
    "    A[i,:] = abs(A[i,:] - mean_vector)\n",
    "#A is the matrix of faces subtracted from mean image. "
   ]
  },
  {
   "cell_type": "code",
   "execution_count": 32,
   "metadata": {
    "collapsed": true
   },
   "outputs": [],
   "source": [
    "import os\n",
    "import numpy as np\n",
    "import sys\n",
    "sys.path.append('/usr/local/lib/python2.7/site-packages')\n",
    "import cv2\n",
    "import matplotlib.pyplot as plt\n",
    "\n",
    "\n",
    "#Step 1: Read the training set \n",
    "data_path = \"/Users/Vicky/OneDrive/Projects/FaceAndSmileAnalyzer/MeanSubdImages\"\n",
    "\n",
    "\n",
    "\n",
    "\n",
    "for i in range(0,101):\n",
    "    temp = A[i,:]\n",
    "    temp = temp.reshape(200,200)\n",
    "    cv2.imwrite(data_path + \"/\" +str(i)+\".jpg\",temp)\n"
   ]
  },
  {
   "cell_type": "code",
   "execution_count": 40,
   "metadata": {},
   "outputs": [
    {
     "data": {
      "text/plain": [
       "(40000, 101)"
      ]
     },
     "execution_count": 40,
     "metadata": {},
     "output_type": "execute_result"
    }
   ],
   "source": [
    "B = A.T\n",
    "c = np.matmul(A,B)  #L matrix\n",
    "c.shape\n",
    "#c is the scatter matrix\n",
    "\n",
    "B.shape"
   ]
  },
  {
   "cell_type": "code",
   "execution_count": 82,
   "metadata": {},
   "outputs": [
    {
     "name": "stdout",
     "output_type": "stream",
     "text": [
      "[12886.895056827707, 1414.3504893823822, 1326.7499423309825, 1289.2877089223014, 1242.0702573197702, 1226.4352856557318, 1183.5530102720454, 1105.509791912757, 1045.8092689871901, 1017.0640015720899, 981.36505901118619, 953.38199728590723, 933.88763434599878, 906.81016508424011, 883.77918342357623, 834.36787902119795, 825.95596006658775, 808.54232670862177, 777.89813931779292, 773.85483015171371, 715.02772539226623, 709.07148933777592, 671.99804736975318, 660.96535711670788, 631.12503344430388, 608.77426981762233, 560.08969559198817, 529.49958986486615, 526.19086433876748, 504.83686499970167, 486.87276351841774, 451.04248557733348, 444.36642948835998, 378.90010058514702, 377.45756106350206, 359.31561991269206, 353.46215165351833, 333.30037197623039, 306.6550187677251]\n"
     ]
    }
   ],
   "source": [
    "#calculate eigen vectors and eigen values\n",
    "from numpy import linalg as LA\n",
    "from collections import OrderedDict\n",
    "\n",
    "eigen_values, eigen_vectors = LA.eig(c)\n",
    "\n",
    "eigen_dict = dict(zip(eigen_values, eigen_vectors))\n",
    "#sorted_eigen_dict = collections.OrderedDict(sorted(eigen_dict.items()), key=lambda t:t[0],reverse=True)\n",
    "sorted_eigen_dict = OrderedDict()\n",
    "\n",
    "sorted_keys = sorted(eigen_dict.keys(),reverse = True)\n",
    "\n",
    "for key in sorted_keys:\n",
    "    if key > 300:\n",
    "        sorted_eigen_dict[key] = eigen_dict[key]\n",
    "\n",
    "print(sorted_eigen_dict.keys())\n",
    "\n",
    "\n",
    "\n",
    "\n",
    "\n",
    "\n",
    "\n",
    "# for i in range(0,101):\n",
    "#     temp = eigen_vectors[i,:]\n",
    "#     #temp = temp.T\n",
    "#     eigen_face = np.matmul(B,temp).reshape(200,200)\n",
    "    \n",
    "    \n",
    "\n",
    "\n"
   ]
  },
  {
   "cell_type": "code",
   "execution_count": null,
   "metadata": {
    "collapsed": true
   },
   "outputs": [],
   "source": []
  },
  {
   "cell_type": "code",
   "execution_count": null,
   "metadata": {
    "collapsed": true
   },
   "outputs": [],
   "source": []
  }
 ],
 "metadata": {
  "kernelspec": {
   "display_name": "Python 2",
   "language": "python",
   "name": "python2"
  },
  "language_info": {
   "codemirror_mode": {
    "name": "ipython",
    "version": 2
   },
   "file_extension": ".py",
   "mimetype": "text/x-python",
   "name": "python",
   "nbconvert_exporter": "python",
   "pygments_lexer": "ipython2",
   "version": "2.7.14"
  }
 },
 "nbformat": 4,
 "nbformat_minor": 2
}
