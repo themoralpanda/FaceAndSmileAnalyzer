{
 "cells": [
  {
   "cell_type": "code",
   "execution_count": null,
   "metadata": {},
   "outputs": [],
   "source": [
    "# Face Matcher Using PCA\n",
    "%matplotlib inline\n",
    "import os\n",
    "import numpy as np\n",
    "import sys\n",
    "sys.path.append('/usr/local/lib/python2.7/site-packages')\n",
    "import cv2\n",
    "import matplotlib.pyplot as plt\n",
    "import glob\n",
    "\n",
    "image_space = []\n",
    "\n",
    "\n",
    "faces = glob.glob(\"/Users/Vicky/OneDrive/Projects/FaceAndSmileAnalyzer/smallprogram/*.jpg\")\n",
    "\n",
    "\n",
    "for face in faces:\n",
    "    img = cv2.imread(face)\n",
    "    \n",
    "    img = cv2.cvtColor(img,cv2.COLOR_BGR2GRAY)\n",
    "    \n",
    "    #convert img into np array\n",
    "    arr = np.array(img,dtype=float)\n",
    "    [w,h] = arr.shape[0], arr.shape[1]\n",
    "    arr = arr.reshape(w*h)\n",
    "    image_space.append(arr)\n",
    "        \n",
    "image_space = np.array(image_space,dtype=float)\n",
    "\n",
    "mean_vector = np.mean(image_space, axis = 0)\n",
    "\n",
    "cv2.imwrite(\"mean_img.jpg\",mean_vector.reshape(200,200))\n",
    "\n",
    "\n"
   ]
  },
  {
   "cell_type": "code",
   "execution_count": null,
   "metadata": {},
   "outputs": [],
   "source": [
    "mean_subd = np.array(image_space,dtype=float)\n",
    "d_path = \"/Users/Vicky/OneDrive/Projects/FaceAndSmileAnalyzer/sp_mean/\"\n",
    "for i in range(0,5):\n",
    "    mean_subd[i] = abs(image_space[i]-mean_vector)\n",
    "\n",
    "\n",
    "for i in range(0,5):\n",
    "    cv2.imwrite(d_path + str(i)+\".jpg\", mean_subd[i].reshape(200,200))\n",
    "    "
   ]
  },
  {
   "cell_type": "code",
   "execution_count": null,
   "metadata": {},
   "outputs": [],
   "source": [
    "s_matrix = np.matmul(mean_subd, mean_subd.T) \n",
    "s_matrix.shape"
   ]
  },
  {
   "cell_type": "code",
   "execution_count": null,
   "metadata": {},
   "outputs": [],
   "source": [
    "#calculate eigen vectors and values.\n",
    "#calculate eigen vectors and eigen values\n",
    "from numpy import linalg as LA\n",
    "from collections import OrderedDict\n",
    "from sklearn.preprocessing import normalize\n",
    "\n",
    "eigen_values, eigen_vectors = LA.eig(s_matrix)\n"
   ]
  },
  {
   "cell_type": "code",
   "execution_count": null,
   "metadata": {},
   "outputs": [],
   "source": [
    "eigen_space = []\n",
    "B = mean_subd.T\n",
    "for i in range(0,3):\n",
    "    eigen_space.append(np.matmul(B,eigen_vectors[i]))\n",
    "\n",
    "    "
   ]
  },
  {
   "cell_type": "code",
   "execution_count": null,
   "metadata": {},
   "outputs": [],
   "source": [
    "for i in range(0,len(eigen_space)):\n",
    "    eigen_space[i] = eigen_space[i]/ np.linalg.norm(eigen_space[i])\n",
    "\n"
   ]
  },
  {
   "cell_type": "code",
   "execution_count": null,
   "metadata": {},
   "outputs": [],
   "source": [
    "#save the eigen faces in disk\n",
    "\n",
    "d_path = \"/Users/Vicky/OneDrive/Projects/FaceAndSmileAnalyzer/sp_e_faces/\"\n",
    "\n",
    "for i in range(0,3):\n",
    "    cv2.imwrite(d_path + \"e\"+ str(i)+\".jpg\", abs(np.array(eigen_space[i]).reshape(200,200)))\n"
   ]
  },
  {
   "cell_type": "code",
   "execution_count": null,
   "metadata": {},
   "outputs": [],
   "source": [
    "#Compute the g values for all db images\n",
    "#g(i) = (meansubd image ) * eigen face (i)\n",
    "\n",
    "g_space = []\n",
    "\n",
    "for i in range(0,5):\n",
    "    g = []\n",
    "    for j in range(0,3):\n",
    "        g.append(abs(np.matmul(mean_subd[i],eigen_space[j])))\n",
    "    g_space.append(g)\n",
    "\n",
    "g_space\n"
   ]
  },
  {
   "cell_type": "code",
   "execution_count": null,
   "metadata": {},
   "outputs": [],
   "source": []
  },
  {
   "cell_type": "code",
   "execution_count": null,
   "metadata": {},
   "outputs": [],
   "source": [
    "#Assuming g values are correct. \n",
    "#Lets try to verify a test image. \n",
    "\n",
    "test = cv2.imread('/Users/Vicky/OneDrive/Projects/FaceAndSmileAnalyzer/smallprogram/1.jpg')\n",
    "\n",
    "\n",
    "\n",
    "# test it\n",
    "def findMatch(test):\n",
    "    #test = cv2.cvtColor(test,cv2.COLOR_BGR2GRAY)\n",
    "    test = cv2.resize(test, (200,200))\n",
    "    [w,h] = test.shape[0], test.shape[1]\n",
    "    test = test.reshape(w*h)\n",
    "\n",
    "    test = np.array(test,dtype=float)\n",
    "    test = abs(test - mean_vector)\n",
    "\n",
    "    gv = []\n",
    "    for i in range(0,3):\n",
    "        gv.append(np.matmul(test,eigen_space[i]))\n",
    "\n",
    "    gv = abs(np.array(gv))\n",
    "\n",
    "\n",
    "    dist = []\n",
    "    for i in range(0,5):\n",
    "        dist.append(np.linalg.norm(gv-g_space[i]))\n",
    "    \n",
    "    if dist.index(0.0) != None:\n",
    "        \n",
    "        return(dist.index(0.0))\n",
    "    else:\n",
    "        return\n",
    "    \n",
    "\n",
    "\n",
    "\n",
    "\n"
   ]
  },
  {
   "cell_type": "code",
   "execution_count": 11,
   "metadata": {},
   "outputs": [],
   "source": [
    "%matplotlib inline\n",
    "\n",
    "import cv2\n",
    "import time\n",
    "cap = cv2.VideoCapture(0)\n",
    "steps = [120,120,120,10,10,10,60,60,10,10,10,10,10,10,0]\n",
    "for n in range(len(steps)):\n",
    "    t = time.strftime(\"%Y-%m-%d_%H-%M-%S\")\n",
    "    #ret, frame = cap.read()\n",
    "    ret = cap.grab()\n",
    "    ret,frame = cap.retrieve()\n",
    "    cv2.imwrite('test_' + t + '.jpg',frame)\n",
    "    time.sleep(steps[n])\n",
    "\n",
    "\n",
    "# When everything done, release the capture\n",
    "cap.release()\n",
    "cv2.destroyAllWindows()"
   ]
  },
  {
   "cell_type": "code",
   "execution_count": 12,
   "metadata": {},
   "outputs": [],
   "source": [
    "cv2.destroyAllWindows()"
   ]
  }
 ],
 "metadata": {
  "kernelspec": {
   "display_name": "Python 3",
   "language": "python",
   "name": "python3"
  },
  "language_info": {
   "codemirror_mode": {
    "name": "ipython",
    "version": 3
   },
   "file_extension": ".py",
   "mimetype": "text/x-python",
   "name": "python",
   "nbconvert_exporter": "python",
   "pygments_lexer": "ipython3",
   "version": "3.6.4"
  }
 },
 "nbformat": 4,
 "nbformat_minor": 2
}
