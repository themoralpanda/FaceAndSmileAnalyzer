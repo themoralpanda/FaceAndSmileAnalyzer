{
 "cells": [
  {
   "cell_type": "code",
   "execution_count": 1,
   "metadata": {},
   "outputs": [
    {
     "name": "stdout",
     "output_type": "stream",
     "text": [
      "1\n"
     ]
    },
    {
     "data": {
      "image/png": "[encoded data removed]",
      "text/plain": [
       "<matplotlib.figure.Figure at 0x106f3eeb8>"
      ]
     },
     "metadata": {},
     "output_type": "display_data"
    },
    {
     "data": {
      "text/plain": [
       "(<matplotlib.image.AxesImage at 0x108882b70>, None)"
      ]
     },
     "execution_count": 1,
     "metadata": {},
     "output_type": "execute_result"
    }
   ],
   "source": [
    "%matplotlib inline\n",
    "\n",
    "import numpy as np\n",
    "#import sys\n",
    "#sys.path.append('/Users/Vicky/anaconda3/lib/python3.6/site-packages')\n",
    "import cv2\n",
    "import matplotlib.pyplot as plt\n",
    "import time\n",
    "\n",
    "\n",
    "def convertToRGB(img):\n",
    "    return cv2.cvtColor(img, cv2.COLOR_BGR2RGB)\n",
    "\n",
    "\n",
    "\n",
    "haar_smile_cascade = cv2.CascadeClassifier('/Users/Vicky/OneDrive/Projects/FaceAndSmileAnalyzer/classifiers/mouth.xml')\n",
    "test = cv2.imread('/Users/Vicky/OneDrive/Projects/FaceAndSmileAnalyzer/test.jpg')\n",
    "\n",
    "#cv2.cvtColor(test, cv2.COLOR_BGR2GRAY)\n",
    "gray_img = test\n",
    "gray = cv2.cvtColor(gray_img,cv2.COLOR_BGR2GRAY)\n",
    "\n",
    "#Detect smile\n",
    "smile = haar_smile_cascade.detectMultiScale(gray_img,\n",
    "                                            scaleFactor= 1.7,\n",
    "                                            minNeighbors=22,\n",
    "                                            minSize=(25, 25));\n",
    "print (len(smile))\n",
    "\n",
    "\n",
    "plt.imshow(gray_img)\n",
    "for (x,y,w,h) in smile:\n",
    "    img2 = gray_img[y:y+h, x:x+w];\n",
    "    cv2.rectangle(gray_img, (x,y), (x+w,y+h), (0,255,0), 2)\n",
    "\n",
    "\n",
    "img2 = cv2.cvtColor(img2,cv2.COLOR_BGR2GRAY)\n",
    "#plt.imshow(img2)\n",
    "\n",
    "corners = cv2.goodFeaturesToTrack(img2,25,0.01,10)\n",
    "corners = np.int0(corners)\n",
    "\n",
    "for i in corners:\n",
    "    x,y = i.ravel()\n",
    "    cv2.circle(img2,(x,y),3,255,-1)\n",
    "    \n",
    "\n",
    "plt.imshow(img2),plt.show()\n",
    "\n"
   ]
  },
  {
   "cell_type": "code",
   "execution_count": null,
   "metadata": {},
   "outputs": [],
   "source": [
    "#test for my own faces\n",
    "import numpy as np\n",
    "import sys\n",
    "sys.path.append('/usr/local/lib/python2.7/site-packages')\n",
    "import cv2\n",
    "import matplotlib.pyplot as plt\n",
    "import time\n",
    "%matplotlib inline\n",
    "\n",
    "def convertToRGB(img):\n",
    "    return cv2.cvtColor(img, cv2.COLOR_BGR2RGB)\n",
    "\n",
    "haar_face_cascade = cv2.CascadeClassifier('/Users/Vicky/OneDrive/Projects/WebCamVideoFaceDetector/classifiers/haarcascade_frontalface_alt.xml')\n",
    "\n",
    "\n",
    "\n",
    "cap = cv2.VideoCapture(0)\n",
    "countt = 0\n",
    "while(True):\n",
    "    ret, frame = cap.read()\n",
    "    gray_img = cv2.cvtColor(frame, cv2.COLOR_BGR2GRAY)\n",
    "    \n",
    "    #Detect faces\n",
    "    faces = haar_face_cascade.detectMultiScale(gray_img, scaleFactor=1.1, minNeighbors=5);\n",
    "    \n",
    "    for (x,y,w,h) in faces:\n",
    "        cv2.rectangle(frame, (x,y), (x+w,y+h), (255,0,0), 2)\n",
    "        face = gray_img[y:y+h, x:x+w]\n",
    "        face = cv2.resize(face, (64,64))\n",
    "        arr = np.array(face)\n",
    "        countt = countt + 1\n",
    "        if countt <= 100:\n",
    "            cv2.imwrite(\"./myface/not_smiling/\"+str(countt)+\".jpg\", arr.reshape(64,64))\n",
    "\n",
    "    cv2.imshow('frame', frame)\n",
    "    if cv2.waitKey(1) & 0xFF == ord('q'):\n",
    "        break\n",
    "\n",
    "# When everything done, release the capture\n",
    "cap.release()\n",
    "cv2.destroyAllWindows()\n"
   ]
  },
  {
   "cell_type": "code",
   "execution_count": 2,
   "metadata": {},
   "outputs": [
    {
     "data": {
      "text/plain": [
       "(200, 4096)"
      ]
     },
     "execution_count": 2,
     "metadata": {},
     "output_type": "execute_result"
    }
   ],
   "source": [
    "%matplotlib inline\n",
    "from pylab import *\n",
    "import glob\n",
    "\n",
    "\n",
    "faces = glob.glob(\"/Users/Vicky/OneDrive/Projects/FaceAndSmileAnalyzer/myface/smiling/*.jpg\")\n",
    "\n",
    "X = []\n",
    "for face in faces:\n",
    "    img = cv2.imread(face)\n",
    "    \n",
    "    img = cv2.cvtColor(img,cv2.COLOR_BGR2GRAY)\n",
    "    #convert img into np array\n",
    "    arr = np.array(img)\n",
    "    [w,h] = arr.shape[0], arr.shape[1]\n",
    "    arr = arr.reshape(w*h)\n",
    "    X.append(arr)\n",
    "\n",
    "\n",
    "faces = glob.glob(\"/Users/Vicky/OneDrive/Projects/FaceAndSmileAnalyzer/myface/not_smiling/*.jpg\")\n",
    "\n",
    "\n",
    "for face in faces:\n",
    "    img = cv2.imread(face)\n",
    "    \n",
    "    img = cv2.cvtColor(img,cv2.COLOR_BGR2GRAY)\n",
    "    #convert img into np array\n",
    "    arr = np.array(img)\n",
    "    [w,h] = arr.shape[0], arr.shape[1]\n",
    "    arr = arr.reshape(w*h)\n",
    "    X.append(arr)\n",
    "\n",
    "    \n",
    "X = np.array(X, dtype=float)\n",
    "X.shape\n"
   ]
  },
  {
   "cell_type": "code",
   "execution_count": 3,
   "metadata": {},
   "outputs": [
    {
     "data": {
      "text/plain": [
       "(200, 1)"
      ]
     },
     "execution_count": 3,
     "metadata": {},
     "output_type": "execute_result"
    }
   ],
   "source": [
    "#Building Target Label. \n",
    "\n",
    "Y = np.full((100,1), 1)\n",
    "Y.shape\n",
    "\n",
    "Y2 = np.full((100,1), 0)\n",
    "Y2.shape\n",
    "\n",
    "\n",
    "\n",
    "Y = np.concatenate([Y,Y2])\n",
    "Y.shape\n",
    "\n"
   ]
  },
  {
   "cell_type": "code",
   "execution_count": 4,
   "metadata": {},
   "outputs": [],
   "source": [
    "#Training the classifier. \n",
    "\n",
    "\n",
    "from sklearn import svm\n",
    "\n",
    "\n",
    "\n"
   ]
  },
  {
   "cell_type": "code",
   "execution_count": 5,
   "metadata": {},
   "outputs": [
    {
     "name": "stderr",
     "output_type": "stream",
     "text": [
      "/Users/Vicky/anaconda3/lib/python3.6/site-packages/sklearn/cross_validation.py:41: DeprecationWarning: This module was deprecated in version 0.18 in favor of the model_selection module into which all the refactored classes and functions are moved. Also note that the interface of the new CV iterators are different from that of this module. This module will be removed in 0.20.\n",
      "  \"This module will be removed in 0.20.\", DeprecationWarning)\n"
     ]
    }
   ],
   "source": [
    "#database split \n",
    "\n",
    "from sklearn.cross_validation import train_test_split\n",
    "\n",
    "\n",
    "X_train, X_test, Y_train, Y_test = train_test_split(\n",
    "        X, Y, test_size=20, random_state=10)"
   ]
  },
  {
   "cell_type": "code",
   "execution_count": 6,
   "metadata": {},
   "outputs": [
    {
     "data": {
      "text/plain": [
       "(180, 4096)"
      ]
     },
     "execution_count": 6,
     "metadata": {},
     "output_type": "execute_result"
    }
   ],
   "source": [
    "X_train.shape"
   ]
  },
  {
   "cell_type": "code",
   "execution_count": 7,
   "metadata": {},
   "outputs": [
    {
     "name": "stderr",
     "output_type": "stream",
     "text": [
      "/Users/Vicky/anaconda3/lib/python3.6/site-packages/sklearn/utils/validation.py:578: DataConversionWarning: A column-vector y was passed when a 1d array was expected. Please change the shape of y to (n_samples, ), for example using ravel().\n",
      "  y = column_or_1d(y, warn=True)\n"
     ]
    }
   ],
   "source": [
    "#Fit the model\n",
    "X = X_train\n",
    "Y = Y_train\n",
    "C = 1.0\n",
    "svc = svm.SVC(kernel='linear',C=C).fit(X,Y)"
   ]
  },
  {
   "cell_type": "code",
   "execution_count": null,
   "metadata": {},
   "outputs": [],
   "source": [
    "import numpy as np\n",
    "import sys\n",
    "sys.path.append('/usr/local/lib/python2.7/site-packages')\n",
    "import cv2\n",
    "import matplotlib.pyplot as plt\n",
    "import time\n",
    "%matplotlib inline\n",
    "\n",
    "def convertToRGB(img):\n",
    "    return cv2.cvtColor(img, cv2.COLOR_BGR2RGB)\n",
    "\n",
    "haar_face_cascade = cv2.CascadeClassifier('/Users/Vicky/OneDrive/Projects/WebCamVideoFaceDetector/classifiers/haarcascade_frontalface_alt.xml')\n",
    "img = cv2.imread('/Users/Vicky/Dropbox/Projects/WebCamVideoFaceDetector/baby.png')\n",
    "\n",
    "\n",
    "cap = cv2.VideoCapture(0)\n",
    "\n",
    "while(True):\n",
    "    ret, frame = cap.read()\n",
    "    gray_img = cv2.cvtColor(frame, cv2.COLOR_BGR2GRAY)\n",
    "    \n",
    "    #Detect faces\n",
    "    faces = haar_face_cascade.detectMultiScale(gray_img, scaleFactor=1.1, minNeighbors=5);\n",
    "    \n",
    "    for (x,y,w,h) in faces:\n",
    "        cv2.rectangle(frame, (x,y), (x+w,y+h), (255,0,0), 2)\n",
    "        face = gray_img[y:y+h, x:x+w]\n",
    "        face = cv2.resize(face, (64,64))\n",
    "        arr = np.array(face)\n",
    "        [w,h] = arr.shape[0], arr.shape[1]\n",
    "        arr = arr.reshape(w*h).reshape(1, -1)\n",
    "        #print(svc.predict(arr))\n",
    "        if svc.predict(arr) == 1:\n",
    "            cv2.putText(frame, \"SMILING\",(x,y), cv2.FONT_HERSHEY_SIMPLEX, 2, 155, 10)\n",
    "        else:\n",
    "            cv2.putText(frame, \"Not SMILING\",(x,y), cv2.FONT_HERSHEY_SIMPLEX, 2, 155, 10)\n",
    "    cv2.imshow('frame', frame)\n",
    "    if cv2.waitKey(1) & 0xFF == ord('q'):\n",
    "        break\n",
    "\n",
    "# When everything done, release the capture\n",
    "cap.release()\n",
    "cv2.destroyAllWindows()"
   ]
  }
 ],
 "metadata": {
  "kernelspec": {
   "display_name": "Python 3",
   "language": "python",
   "name": "python3"
  },
  "language_info": {
   "codemirror_mode": {
    "name": "ipython",
    "version": 3
   },
   "file_extension": ".py",
   "mimetype": "text/x-python",
   "name": "python",
   "nbconvert_exporter": "python",
   "pygments_lexer": "ipython3",
   "version": "3.6.4"
  }
 },
 "nbformat": 4,
 "nbformat_minor": 2
}
